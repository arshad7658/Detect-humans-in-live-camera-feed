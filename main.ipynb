{
 "cells": [
  {
   "cell_type": "code",
   "execution_count": 15,
   "id": "0e5d42a5",
   "metadata": {},
   "outputs": [],
   "source": [
    "import cv2\n",
    "import numpy as np"
   ]
  },
  {
   "cell_type": "code",
   "execution_count": 2,
   "id": "639a976a",
   "metadata": {},
   "outputs": [],
   "source": [
    "cfg = 'yolov4.cfg'\n",
    "weight = 'yolov4.weights'\n",
    "labels = 'coco.names'"
   ]
  },
  {
   "cell_type": "code",
   "execution_count": 18,
   "id": "40e8d4e5",
   "metadata": {},
   "outputs": [],
   "source": [
    "thresh_for_detection = 0.5\n",
    "nms_thresh = 0.4\n",
    "inp_size = 416\n",
    "cam = 0"
   ]
  },
  {
   "cell_type": "code",
   "execution_count": 21,
   "id": "b8696f8a",
   "metadata": {},
   "outputs": [],
   "source": [
    "net = cv2.dnn.readNet(weight, cfg)\n",
    "net.setPreferableBackend(cv2.dnn.DNN_BACKEND_OPENCV)\n",
    "net.setPreferableTarget(cv2.dnn.DNN_TARGET_CPU)"
   ]
  },
  {
   "cell_type": "code",
   "execution_count": 7,
   "id": "ac4f31f4",
   "metadata": {},
   "outputs": [],
   "source": [
    "final_layers=net.getUnconnectedOutLayersNames()"
   ]
  },
  {
   "cell_type": "code",
   "execution_count": 9,
   "id": "c2545233",
   "metadata": {},
   "outputs": [
    {
     "data": {
      "text/plain": [
       "('yolo_139', 'yolo_150', 'yolo_161')"
      ]
     },
     "execution_count": 9,
     "metadata": {},
     "output_type": "execute_result"
    }
   ],
   "source": [
    "final_layers"
   ]
  },
  {
   "cell_type": "code",
   "execution_count": 11,
   "id": "b86e6b04",
   "metadata": {},
   "outputs": [],
   "source": [
    "with open(labels, 'r') as f:\n",
    "    names = [line.strip() for line in f.readlines()]"
   ]
  },
  {
   "cell_type": "code",
   "execution_count": 13,
   "id": "5b39fc14",
   "metadata": {},
   "outputs": [
    {
     "data": {
      "text/plain": [
       "['person',\n",
       " 'bicycle',\n",
       " 'car',\n",
       " 'motorbike',\n",
       " 'aeroplane',\n",
       " 'bus',\n",
       " 'train',\n",
       " 'truck',\n",
       " 'boat',\n",
       " 'traffic light',\n",
       " 'fire hydrant',\n",
       " 'stop sign',\n",
       " 'parking meter',\n",
       " 'bench',\n",
       " 'bird',\n",
       " 'cat',\n",
       " 'dog',\n",
       " 'horse',\n",
       " 'sheep',\n",
       " 'cow',\n",
       " 'elephant',\n",
       " 'bear',\n",
       " 'zebra',\n",
       " 'giraffe',\n",
       " 'backpack',\n",
       " 'umbrella',\n",
       " 'handbag',\n",
       " 'tie',\n",
       " 'suitcase',\n",
       " 'frisbee',\n",
       " 'skis',\n",
       " 'snowboard',\n",
       " 'sports ball',\n",
       " 'kite',\n",
       " 'baseball bat',\n",
       " 'baseball glove',\n",
       " 'skateboard',\n",
       " 'surfboard',\n",
       " 'tennis racket',\n",
       " 'bottle',\n",
       " 'wine glass',\n",
       " 'cup',\n",
       " 'fork',\n",
       " 'knife',\n",
       " 'spoon',\n",
       " 'bowl',\n",
       " 'banana',\n",
       " 'apple',\n",
       " 'sandwich',\n",
       " 'orange',\n",
       " 'broccoli',\n",
       " 'carrot',\n",
       " 'hot dog',\n",
       " 'pizza',\n",
       " 'donut',\n",
       " 'cake',\n",
       " 'chair',\n",
       " 'sofa',\n",
       " 'pottedplant',\n",
       " 'bed',\n",
       " 'diningtable',\n",
       " 'toilet',\n",
       " 'tvmonitor',\n",
       " 'laptop',\n",
       " 'mouse',\n",
       " 'remote',\n",
       " 'keyboard',\n",
       " 'cell phone',\n",
       " 'microwave',\n",
       " 'oven',\n",
       " 'toaster',\n",
       " 'sink',\n",
       " 'refrigerator',\n",
       " 'book',\n",
       " 'clock',\n",
       " 'vase',\n",
       " 'scissors',\n",
       " 'teddy bear',\n",
       " 'hair drier',\n",
       " 'toothbrush']"
      ]
     },
     "execution_count": 13,
     "metadata": {},
     "output_type": "execute_result"
    }
   ],
   "source": [
    "names"
   ]
  },
  {
   "cell_type": "code",
   "execution_count": null,
   "id": "ffda0e43",
   "metadata": {},
   "outputs": [],
   "source": [
    "cap = cv2.VideoCapture(1)\n",
    "while True:\n",
    "    isread, frame = cap.read()\n",
    "    if not isread:\n",
    "        break\n",
    "    h,w = frame.shape[:2]\n",
    "    blob = cv2.dnn.blobFromImage(image=frame, scalefactor=1/255.0, size=(inp_size, inp_size), swapRB=True)\n",
    "    net.setInput(blob)\n",
    "    out = net.forward(final_layers)\n",
    "    bbox, confidence, class_id = [], [], []\n",
    "    for output in out:\n",
    "        for det in output:\n",
    "            scores = det[5:]  #focus on indexing\n",
    "            clas = np.argmax(scores)  #returns index\n",
    "            conf = scores[clas]\n",
    "            if conf>=thresh_for_detection and names[clas]=='person':\n",
    "                centre_x = int(det[0]*w)\n",
    "                centre_y = int(det[1]*h)\n",
    "                width = int(det[2]*w)\n",
    "                height = int(det[3]*h)\n",
    "                x = int(centre_x-w/2)\n",
    "                y = int(centre_y-height/2)\n",
    "                bbox.append([x,y,width,height])\n",
    "                class_id.append(clas)\n",
    "                confidence.append(conf)\n",
    "    indcs=cv2.dnn.NMSBoxes(bbox, confidence, thresh_for_detection, nms_thresh)\n",
    "    if len(indcs)>0:\n",
    "        indcs = indcs.flatten() if indcs.ndim > 1 else indcs\n",
    "        for i in indcs:\n",
    "            x,y,w,h = bbox[i]\n",
    "            c = confidence[i]\n",
    "            cl = class_id[i]\n",
    "\n",
    "            cv2.rectangle(frame, (x,y), (x+w,y+h), (255,0,0), 2)\n",
    "            text = f'{names[cl]} : {c}'\n",
    "            cv2.putText(frame, text, (x,y-10), cv2.FONT_HERSHEY_SIMPLEX, 0.2, (255,0,0), 2)\n",
    "    \n",
    "    cv2.imshow('frame', frame)\n",
    "    if cv2.waitKey(1) & 0xFF==ord('q'):\n",
    "        break\n",
    "cap.release()\n",
    "cv2.destroyAllWindows()"
   ]
  }
 ],
 "metadata": {
  "kernelspec": {
   "display_name": "persons_detection_in_live_camera_feed",
   "language": "python",
   "name": "python3"
  },
  "language_info": {
   "codemirror_mode": {
    "name": "ipython",
    "version": 3
   },
   "file_extension": ".py",
   "mimetype": "text/x-python",
   "name": "python",
   "nbconvert_exporter": "python",
   "pygments_lexer": "ipython3",
   "version": "3.12.3"
  }
 },
 "nbformat": 4,
 "nbformat_minor": 5
}
